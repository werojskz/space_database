{
 "cells": [
  {
   "cell_type": "code",
   "execution_count": 4,
   "id": "9d39fa92",
   "metadata": {},
   "outputs": [],
   "source": [
    "from sqlalchemy import create_engine\n",
    "from urllib.parse import quote_plus\n",
    "\n",
    "username = \"team08\"\n",
    "password = quote_plus(\"te@mlob\")  # koduje hasło bezpiecznie\n",
    "host = \"giniewicz.it\"\n",
    "port = 3306\n",
    "database = \"team08\"\n",
    "\n",
    "engine = create_engine(\n",
    "    f\"mysql+pymysql://{username}:{password}@{host}:{port}/{database}\"\n",
    ")\n"
   ]
  },
  {
   "cell_type": "code",
   "execution_count": null,
   "id": "8ebb9b9e",
   "metadata": {},
   "outputs": [
    {
     "name": "stdout",
     "output_type": "stream",
     "text": [
      "Dane zostały załadowane poprawnie.\n"
     ]
    }
   ],
   "source": [
    "import pandas as pd\n",
    "\n",
    "\n",
    "# ścieżka do pliku\n",
    "csv_path = \"C:/Users/User/Desktop/space_database/galaxies_from_diagram.csv\"\n",
    "df = pd.read_csv(csv_path)\n",
    "\n",
    "# zapis do tabeli galaxy\n",
    "df.to_sql(\"galaxy\", con=engine, if_exists=\"append\", index=False)\n",
    "\n",
    "print(\"Dane zostały załadowane poprawnie.\")\n"
   ]
  }
 ],
 "metadata": {
  "kernelspec": {
   "display_name": "Python 3",
   "language": "python",
   "name": "python3"
  },
  "language_info": {
   "codemirror_mode": {
    "name": "ipython",
    "version": 3
   },
   "file_extension": ".py",
   "mimetype": "text/x-python",
   "name": "python",
   "nbconvert_exporter": "python",
   "pygments_lexer": "ipython3",
   "version": "3.10.7"
  }
 },
 "nbformat": 4,
 "nbformat_minor": 5
}
