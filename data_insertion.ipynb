{
 "cells": [
  {
   "cell_type": "markdown",
   "id": "ed5a8390",
   "metadata": {},
   "source": [
    "kolejnosc wczytywania danych do sql, zeby nie bylo bledow\n",
    "* galaxy\n",
    "* planet\n",
    "* trip type\n",
    "* rocket\n",
    "* employees\n",
    "* trip\n",
    "* trip_employyes\n",
    "* adres + emergency \n",
    "* clients\n",
    "* booking\n",
    "* transaction\n",
    "* cost"
   ]
  },
  {
   "cell_type": "markdown",
   "id": "79c7ea09",
   "metadata": {},
   "source": [
    "jesli chcesz zaladowac np dane do tabeli trip --> nie wystarczy wyrzucic danych z tej tabeli tylko ze wszytskich pod nia (przez wzgledu na klucze obce i polaczenia miedzy nimi - sql na to nie pozwala)"
   ]
  },
  {
   "cell_type": "markdown",
   "id": "88d76a7a",
   "metadata": {},
   "source": [
    "laczenie do serwera"
   ]
  },
  {
   "cell_type": "code",
   "execution_count": 33,
   "id": "9d39fa92",
   "metadata": {},
   "outputs": [],
   "source": [
    "from sqlalchemy import create_engine, text\n",
    "from urllib.parse import quote_plus\n",
    "\n",
    "username = \"team08\"\n",
    "password = quote_plus(\"te@mlob\")  # koduje hasło bezpiecznie\n",
    "host = \"giniewicz.it\"\n",
    "port = 3306\n",
    "database = \"team08\"\n",
    "\n",
    "engine = create_engine(\n",
    "    f\"mysql+pymysql://{username}:{password}@{host}:{port}/{database}\"\n",
    ")\n"
   ]
  },
  {
   "cell_type": "markdown",
   "id": "feb009f5",
   "metadata": {},
   "source": [
    "wczytanie csv do tabeli\n",
    "\n",
    "! jak wstawiasz, musisz najpier usunac dane z tabeli --> w sql DELETE FROM nazwa_tabeli"
   ]
  },
  {
   "cell_type": "code",
   "execution_count": 37,
   "id": "8ebb9b9e",
   "metadata": {},
   "outputs": [
    {
     "name": "stdout",
     "output_type": "stream",
     "text": [
      "Dane zostały załadowane poprawnie.\n"
     ]
    }
   ],
   "source": [
    "import pandas as pd\n",
    "\n",
    "\n",
    "#tu zmieniasz sciezke do csv\n",
    "csv_path = \"C:/Users/User/Desktop/space_database/costs.csv\"\n",
    "df = pd.read_csv(csv_path)\n",
    "\n",
    "# a tu nazwe tabeli\n",
    "df.to_sql(\"cost\", con=engine, if_exists=\"append\", index=False)\n",
    "\n",
    "# jak usunac dane z tabeli to w sql DELETE FROM nazw_tabeli\n",
    "print(\"Dane zostały załadowane poprawnie.\")\n"
   ]
  },
  {
   "cell_type": "markdown",
   "id": "1096ab7d",
   "metadata": {},
   "source": [
    "jesli wam po tym kodzie wywali blad to\n",
    "1. najpierw pusccie pierwszy kod z laczeniem do serwera -- pewnie sie ucial.\n",
    "2. kolejna opcja, to w tabeli cos jest -- trzeba ja wyczyscic"
   ]
  }
 ],
 "metadata": {
  "kernelspec": {
   "display_name": "Python 3",
   "language": "python",
   "name": "python3"
  },
  "language_info": {
   "codemirror_mode": {
    "name": "ipython",
    "version": 3
   },
   "file_extension": ".py",
   "mimetype": "text/x-python",
   "name": "python",
   "nbconvert_exporter": "python",
   "pygments_lexer": "ipython3",
   "version": "3.10.7"
  }
 },
 "nbformat": 4,
 "nbformat_minor": 5
}
